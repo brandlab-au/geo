{
 "cells": [
  {
   "cell_type": "markdown",
   "metadata": {},
   "source": [
    "# street crime data\n"
   ]
  },
  {
   "cell_type": "markdown",
   "metadata": {
    "heading_collapsed": true
   },
   "source": [
    "### Import"
   ]
  },
  {
   "cell_type": "markdown",
   "metadata": {
    "hidden": true
   },
   "source": [
    "- This notebook shows how to import the street crime data into MongoDB. \n"
   ]
  },
  {
   "cell_type": "code",
   "execution_count": 14,
   "metadata": {
    "hidden": true
   },
   "outputs": [],
   "source": [
    "import pymongo\n",
    "import datetime\n",
    "import matplotlib as plt\n",
    "import pandas as pd"
   ]
  },
  {
   "cell_type": "markdown",
   "metadata": {
    "hidden": true
   },
   "source": [
    "Install street crime data [link](https://data.police.uk/data/archive/)"
   ]
  },
  {
   "cell_type": "code",
   "execution_count": 27,
   "metadata": {
    "hidden": true
   },
   "outputs": [
    {
     "name": "stdout",
     "output_type": "stream",
     "text": [
      "1-10NB\t 20-23NB  data\t     EMA:TMA02\tWorkingTests\r\n",
      "11-16NB  25-26NB  _DS_Store  github\r\n"
     ]
    }
   ],
   "source": [
    "!ls ..\n"
   ]
  },
  {
   "cell_type": "markdown",
   "metadata": {
    "heading_collapsed": true
   },
   "source": [
    "### Find and import the data"
   ]
  },
  {
   "cell_type": "markdown",
   "metadata": {
    "heading_collapsed": true
   },
   "source": [
    "### Import files"
   ]
  },
  {
   "cell_type": "code",
   "execution_count": 16,
   "metadata": {
    "hidden": true
   },
   "outputs": [
    {
     "name": "stdout",
     "output_type": "stream",
     "text": [
      "find: ‘../2018J_TMA02_data/street-crimes’: No such file or directory\r\n",
      "0\r\n"
     ]
    }
   ],
   "source": [
    "!find ../2018J_TMA02_data/street-crimes  -type f | wc -l "
   ]
  },
  {
   "cell_type": "code",
   "execution_count": 17,
   "metadata": {
    "hidden": true
   },
   "outputs": [
    {
     "name": "stdout",
     "output_type": "stream",
     "text": [
      "find: ‘../2018J_TMA02_data/street-crimes’: No such file or directory\r\n"
     ]
    }
   ],
   "source": [
    "!find ../2018J_TMA02_data/street-crimes -name '*csv'"
   ]
  },
  {
   "cell_type": "markdown",
   "metadata": {
    "hidden": true
   },
   "source": [
    "- DB named as crimes"
   ]
  },
  {
   "cell_type": "code",
   "execution_count": 18,
   "metadata": {
    "hidden": true,
    "scrolled": true
   },
   "outputs": [
    {
     "name": "stdout",
     "output_type": "stream",
     "text": [
      "find: ‘../2018J_TMA02_data/street-crimes’: No such file or directory\r\n"
     ]
    }
   ],
   "source": [
    "!find ../2018J_TMA02_data/street-crimes -name '*csv' \\\n",
    "  -exec mongoimport --port 27351 --db crimes --collection street \\\n",
    "    --type csv --headerline --ignoreBlanks \\\n",
    "    --file {} \\;"
   ]
  },
  {
   "cell_type": "markdown",
   "metadata": {
    "heading_collapsed": true
   },
   "source": [
    "### After import is done"
   ]
  },
  {
   "cell_type": "code",
   "execution_count": 19,
   "metadata": {
    "hidden": true
   },
   "outputs": [],
   "source": [
    "# Open a connection to the Mongo server\n",
    "client = pymongo.MongoClient('mongodb://localhost:27351/')"
   ]
  },
  {
   "cell_type": "code",
   "execution_count": 20,
   "metadata": {
    "hidden": true
   },
   "outputs": [],
   "source": [
    "# Connect to the crimes database\n",
    "crimes_db = client.crimes\n",
    "street = crimes_db.street"
   ]
  },
  {
   "cell_type": "code",
   "execution_count": 21,
   "metadata": {
    "hidden": true
   },
   "outputs": [],
   "source": [
    " ## crimes_db.street.drop()"
   ]
  },
  {
   "cell_type": "markdown",
   "metadata": {
    "heading_collapsed": true,
    "hidden": true
   },
   "source": [
    "#### Test data 1"
   ]
  },
  {
   "cell_type": "code",
   "execution_count": 22,
   "metadata": {
    "hidden": true
   },
   "outputs": [
    {
     "data": {
      "text/plain": [
       "{'Crime ID': '78cde503559d174152518a99410574620a60ef5d06f0b9b4c0ccc518a1385c7a',\n",
       " 'Crime type': 'Violence and sexual offences',\n",
       " 'Falls within': 'Bedfordshire Police',\n",
       " 'LSOA code': 'E01017658',\n",
       " 'LSOA name': 'Aylesbury Vale 009D',\n",
       " 'Last outcome category': 'Awaiting court outcome',\n",
       " 'Latitude': 51.873389,\n",
       " 'Location': 'On or near Northall Road',\n",
       " 'Longitude': -0.600189,\n",
       " 'Month': '2017-10',\n",
       " 'Reported by': 'Bedfordshire Police',\n",
       " '_id': ObjectId('5ca63402fa8926a25a414834'),\n",
       " 'date': datetime.datetime(2017, 10, 31, 0, 0),\n",
       " 'loc': {'coordinates': [-0.600189, 51.873389], 'type': 'Point'}}"
      ]
     },
     "execution_count": 22,
     "metadata": {},
     "output_type": "execute_result"
    }
   ],
   "source": [
    "street.find_one({'Falls within': 'Bedfordshire Police'})"
   ]
  },
  {
   "cell_type": "code",
   "execution_count": 23,
   "metadata": {
    "hidden": true
   },
   "outputs": [
    {
     "data": {
      "text/plain": [
       "463722"
      ]
     },
     "execution_count": 23,
     "metadata": {},
     "output_type": "execute_result"
    }
   ],
   "source": [
    "street.count_documents({'Falls within': 'Bedfordshire Police'})"
   ]
  },
  {
   "cell_type": "code",
   "execution_count": 24,
   "metadata": {
    "hidden": true
   },
   "outputs": [
    {
     "data": {
      "text/html": [
       "<div>\n",
       "<style scoped>\n",
       "    .dataframe tbody tr th:only-of-type {\n",
       "        vertical-align: middle;\n",
       "    }\n",
       "\n",
       "    .dataframe tbody tr th {\n",
       "        vertical-align: top;\n",
       "    }\n",
       "\n",
       "    .dataframe thead th {\n",
       "        text-align: right;\n",
       "    }\n",
       "</style>\n",
       "<table border=\"1\" class=\"dataframe\">\n",
       "  <thead>\n",
       "    <tr style=\"text-align: right;\">\n",
       "      <th></th>\n",
       "      <th>LSOA name</th>\n",
       "      <th>Latitude</th>\n",
       "      <th>Longitude</th>\n",
       "      <th>_id</th>\n",
       "    </tr>\n",
       "  </thead>\n",
       "  <tbody>\n",
       "    <tr>\n",
       "      <th>0</th>\n",
       "      <td>Aylesbury Vale 009D</td>\n",
       "      <td>51.873389</td>\n",
       "      <td>-0.600189</td>\n",
       "      <td>5ca63402fa8926a25a414834</td>\n",
       "    </tr>\n",
       "    <tr>\n",
       "      <th>1</th>\n",
       "      <td>Aylesbury Vale 009D</td>\n",
       "      <td>51.873389</td>\n",
       "      <td>-0.600189</td>\n",
       "      <td>5ca63402fa8926a25a414835</td>\n",
       "    </tr>\n",
       "    <tr>\n",
       "      <th>2</th>\n",
       "      <td>Aylesbury Vale 009D</td>\n",
       "      <td>51.853617</td>\n",
       "      <td>-0.618473</td>\n",
       "      <td>5ca63405fa8926a25a429e19</td>\n",
       "    </tr>\n",
       "    <tr>\n",
       "      <th>3</th>\n",
       "      <td>Aylesbury Vale 009D</td>\n",
       "      <td>51.862951</td>\n",
       "      <td>-0.590478</td>\n",
       "      <td>5ca63405fa8926a25a429e1a</td>\n",
       "    </tr>\n",
       "    <tr>\n",
       "      <th>4</th>\n",
       "      <td>Aylesbury Vale 009D</td>\n",
       "      <td>51.862951</td>\n",
       "      <td>-0.590478</td>\n",
       "      <td>5ca63405fa8926a25a429e1b</td>\n",
       "    </tr>\n",
       "    <tr>\n",
       "      <th>5</th>\n",
       "      <td>Aylesbury Vale 009D</td>\n",
       "      <td>51.862951</td>\n",
       "      <td>-0.590478</td>\n",
       "      <td>5ca63405fa8926a25a429e1c</td>\n",
       "    </tr>\n",
       "    <tr>\n",
       "      <th>6</th>\n",
       "      <td>Aylesbury Vale 009D</td>\n",
       "      <td>51.868097</td>\n",
       "      <td>-0.586918</td>\n",
       "      <td>5ca63405fa8926a25a429e1d</td>\n",
       "    </tr>\n",
       "    <tr>\n",
       "      <th>7</th>\n",
       "      <td>Aylesbury Vale 009D</td>\n",
       "      <td>51.867488</td>\n",
       "      <td>-0.587939</td>\n",
       "      <td>5ca63405fa8926a25a429e1e</td>\n",
       "    </tr>\n",
       "    <tr>\n",
       "      <th>8</th>\n",
       "      <td>Aylesbury Vale 009D</td>\n",
       "      <td>51.873389</td>\n",
       "      <td>-0.600189</td>\n",
       "      <td>5ca7859afa8926a25aa61431</td>\n",
       "    </tr>\n",
       "    <tr>\n",
       "      <th>9</th>\n",
       "      <td>Aylesbury Vale 009D</td>\n",
       "      <td>51.873389</td>\n",
       "      <td>-0.600189</td>\n",
       "      <td>5ca7859afa8926a25aa61432</td>\n",
       "    </tr>\n",
       "  </tbody>\n",
       "</table>\n",
       "</div>"
      ],
      "text/plain": [
       "             LSOA name   Latitude  Longitude                       _id\n",
       "0  Aylesbury Vale 009D  51.873389  -0.600189  5ca63402fa8926a25a414834\n",
       "1  Aylesbury Vale 009D  51.873389  -0.600189  5ca63402fa8926a25a414835\n",
       "2  Aylesbury Vale 009D  51.853617  -0.618473  5ca63405fa8926a25a429e19\n",
       "3  Aylesbury Vale 009D  51.862951  -0.590478  5ca63405fa8926a25a429e1a\n",
       "4  Aylesbury Vale 009D  51.862951  -0.590478  5ca63405fa8926a25a429e1b\n",
       "5  Aylesbury Vale 009D  51.862951  -0.590478  5ca63405fa8926a25a429e1c\n",
       "6  Aylesbury Vale 009D  51.868097  -0.586918  5ca63405fa8926a25a429e1d\n",
       "7  Aylesbury Vale 009D  51.867488  -0.587939  5ca63405fa8926a25a429e1e\n",
       "8  Aylesbury Vale 009D  51.873389  -0.600189  5ca7859afa8926a25aa61431\n",
       "9  Aylesbury Vale 009D  51.873389  -0.600189  5ca7859afa8926a25aa61432"
      ]
     },
     "execution_count": 24,
     "metadata": {},
     "output_type": "execute_result"
    }
   ],
   "source": [
    "# street.find({'LSOA name': 'County Durham 030E'})\n",
    "\n",
    "pd.DataFrame(list(street.find({'Month': '2017-10', 'LSOA code': 'E01017658'}, \n",
    "                                 ['Latitude', 'Longitude','LSOA name'],\n",
    "                                 limit=10)))"
   ]
  },
  {
   "cell_type": "code",
   "execution_count": 25,
   "metadata": {
    "hidden": true
   },
   "outputs": [
    {
     "name": "stdout",
     "output_type": "stream",
     "text": [
      "ls: cannot access 'dataset/': No such file or directory\r\n"
     ]
    }
   ],
   "source": [
    "!ls dataset/\n"
   ]
  },
  {
   "cell_type": "code",
   "execution_count": 26,
   "metadata": {
    "hidden": true
   },
   "outputs": [
    {
     "ename": "ValueError",
     "evalue": "The dataset 'dataset/area.csv' is not available",
     "output_type": "error",
     "traceback": [
      "\u001b[0;31m---------------------------------------------------------------------------\u001b[0m",
      "\u001b[0;31mValueError\u001b[0m                                Traceback (most recent call last)",
      "\u001b[0;32m<ipython-input-26-cbed7149126a>\u001b[0m in \u001b[0;36m<module>\u001b[0;34m()\u001b[0m\n\u001b[1;32m      1\u001b[0m \u001b[0;32mimport\u001b[0m \u001b[0mgeopandas\u001b[0m\u001b[0;34m\u001b[0m\u001b[0m\n\u001b[0;32m----> 2\u001b[0;31m \u001b[0mboros\u001b[0m \u001b[0;34m=\u001b[0m \u001b[0mgeopandas\u001b[0m\u001b[0;34m.\u001b[0m\u001b[0mread_file\u001b[0m\u001b[0;34m(\u001b[0m\u001b[0mgeopandas\u001b[0m\u001b[0;34m.\u001b[0m\u001b[0mdatasets\u001b[0m\u001b[0;34m.\u001b[0m\u001b[0mget_path\u001b[0m\u001b[0;34m(\u001b[0m\u001b[0;34m\"dataset/area.csv\"\u001b[0m\u001b[0;34m)\u001b[0m\u001b[0;34m)\u001b[0m\u001b[0;34m\u001b[0m\u001b[0m\n\u001b[0m\u001b[1;32m      3\u001b[0m \u001b[0;34m\u001b[0m\u001b[0m\n\u001b[1;32m      4\u001b[0m \u001b[0mboros\u001b[0m\u001b[0;34m.\u001b[0m\u001b[0mBoroName\u001b[0m\u001b[0;34m\u001b[0m\u001b[0m\n\u001b[1;32m      5\u001b[0m \u001b[0;34m\u001b[0m\u001b[0m\n",
      "\u001b[0;32m/usr/local/lib/python3.5/dist-packages/geopandas/datasets/__init__.py\u001b[0m in \u001b[0;36mget_path\u001b[0;34m(dataset)\u001b[0m\n\u001b[1;32m     31\u001b[0m     \u001b[0;32melse\u001b[0m\u001b[0;34m:\u001b[0m\u001b[0;34m\u001b[0m\u001b[0m\n\u001b[1;32m     32\u001b[0m         \u001b[0mmsg\u001b[0m \u001b[0;34m=\u001b[0m \u001b[0;34m\"The dataset '{data}' is not available\"\u001b[0m\u001b[0;34m.\u001b[0m\u001b[0mformat\u001b[0m\u001b[0;34m(\u001b[0m\u001b[0mdata\u001b[0m\u001b[0;34m=\u001b[0m\u001b[0mdataset\u001b[0m\u001b[0;34m)\u001b[0m\u001b[0;34m\u001b[0m\u001b[0m\n\u001b[0;32m---> 33\u001b[0;31m         \u001b[0;32mraise\u001b[0m \u001b[0mValueError\u001b[0m\u001b[0;34m(\u001b[0m\u001b[0mmsg\u001b[0m\u001b[0;34m)\u001b[0m\u001b[0;34m\u001b[0m\u001b[0m\n\u001b[0m",
      "\u001b[0;31mValueError\u001b[0m: The dataset 'dataset/area.csv' is not available"
     ]
    }
   ],
   "source": [
    "import geopandas\n",
    "boros = geopandas.read_file(geopandas.datasets.get_path(\"dataset/area.csv\"))\n",
    "\n",
    "boros.BoroName\n",
    "\n",
    "boro_locations = geopandas.tools.geocode(boros.BoroName)\n",
    "\n",
    "boro_locations"
   ]
  },
  {
   "cell_type": "markdown",
   "metadata": {
    "hidden": true
   },
   "source": [
    "- Below should show how many more items are pulled out of the Mongodb \n",
    "- as on the single sheet streetCrime2018May \n",
    "- there was some **8739** row of data pulled in.\n",
    "- Where as we see form the mongodb we have some **198,738** row pulled in for just Bedfordshire police force."
   ]
  },
  {
   "cell_type": "markdown",
   "metadata": {
    "heading_collapsed": true,
    "hidden": true
   },
   "source": [
    "#### Test data 2"
   ]
  },
  {
   "cell_type": "code",
   "execution_count": null,
   "metadata": {
    "hidden": true
   },
   "outputs": [],
   "source": [
    "street.count_documents({'Falls within':'Avon and Somerset Constabulary'})"
   ]
  },
  {
   "cell_type": "markdown",
   "metadata": {
    "hidden": true
   },
   "source": [
    "- We now see some ** 539,406 ** row pulled out of mongodb\n",
    "-  For Somerset Constabulary"
   ]
  },
  {
   "cell_type": "markdown",
   "metadata": {
    "heading_collapsed": true
   },
   "source": [
    "### Geo"
   ]
  },
  {
   "cell_type": "markdown",
   "metadata": {
    "hidden": true
   },
   "source": [
    " I wanted to be able to group street crime by \"loc\" but not working"
   ]
  },
  {
   "cell_type": "code",
   "execution_count": null,
   "metadata": {
    "hidden": true
   },
   "outputs": [],
   "source": [
    "from bson.son import SON\n",
    "from pymongo import MongoClient, GEO2D\n",
    "# query = {\"loc\": SON([(\"$nearSphere\", [-0.155734, 51.49268]), (\"$maxDistance\", 10)])}\n",
    "# cursor=street.find(query)[5]\n",
    "\n",
    "query = {\"loc\": SON([(\"$nearSphere\", [-0.155734, 51.49268]), (\"$maxDistance\", 1000)])}\n",
    "for doc in street.find(query).limit(4):\n",
    "    pprint.pprint(doc)\n",
    "    \n",
    "    "
   ]
  },
  {
   "cell_type": "code",
   "execution_count": null,
   "metadata": {
    "hidden": true
   },
   "outputs": [],
   "source": [
    "pipeline = [{'$group': {'_id': '$geoNear',\n",
    "                        'length': {'$avg': '$LenNet'},\n",
    "                        'count': {'$sum': 1}}}]\n",
    "results = list(street.aggregate(pipeline))\n",
    "results"
   ]
  },
  {
   "cell_type": "code",
   "execution_count": null,
   "metadata": {
    "hidden": true
   },
   "outputs": [],
   "source": [
    "street.create_index({'Point':\"2dsphere\"});\n",
    "\n",
    "pipeline = [\n",
    "   {\n",
    "     '$geoNear': {\n",
    "        'near': { 'type': \"Point\", 'coordinates': [ -73.99279 , 40.719296 ] },\n",
    "        'distanceField': \"dist.calculated\",\n",
    "        'maxDistance': 20,\n",
    "        'query': { 'type': \"public\" },\n",
    "        'includeLocs': \"dist.location\",\n",
    "        'num': 5,\n",
    "        'spherical': 'true'\n",
    "     }\n",
    "   }\n",
    "]\n",
    "\n",
    "results = list(street.aggregate(pipeline))\n",
    "results"
   ]
  },
  {
   "cell_type": "code",
   "execution_count": null,
   "metadata": {
    "hidden": true
   },
   "outputs": [],
   "source": [
    "for a in street.find({'point': {'$near': [-84.26060492426588, 30.45023887165371]}}):\n",
    "    Print(a)"
   ]
  },
  {
   "cell_type": "code",
   "execution_count": null,
   "metadata": {
    "hidden": true
   },
   "outputs": [],
   "source": [
    "pipeline = [{'$geoNear':{\n",
    "                        'near': { 'type': \"Point\", 'coordinates': [ -73.99279 , 40.719296 ] },\n",
    "            'distanceField': \"dist.calculated\",\n",
    "        'maxDistance': 2000,                    \n",
    "    'count': {'$sum': 1}}}]\n",
    "results = list(street.aggregate(pipeline))\n",
    "results\n"
   ]
  },
  {
   "cell_type": "code",
   "execution_count": null,
   "metadata": {
    "code_folding": [],
    "hidden": true
   },
   "outputs": [],
   "source": [
    "pipeline = [{'$group': {'_id': '$LSOA name',\n",
    "                        'Totals': {'$sum': 1}}}]\n",
    "results_of_crimeZ = list(street.aggregate(pipeline))\n",
    "results_of_crimeZ"
   ]
  },
  {
   "cell_type": "markdown",
   "metadata": {
    "hidden": true
   },
   "source": [
    "not a lot of the same names above,\n",
    "- lets have a go with long lat **NOT WORKING**"
   ]
  },
  {
   "cell_type": "code",
   "execution_count": null,
   "metadata": {
    "hidden": true
   },
   "outputs": [],
   "source": [
    "pipeline = [{'$nearSphere': {'geometry':{\n",
    "          type: \"Point\" ,\n",
    "          'coordinates' [ -1.073626, 51.806445]\n",
    "       }},\n",
    "    '$maxDistance': 50,\n",
    "       '$minDistance': 50  }]\n",
    "\n",
    "results_of_cri = list(street.aggregate(pipeline))\n",
    "results_of_cri\n"
   ]
  },
  {
   "cell_type": "code",
   "execution_count": null,
   "metadata": {
    "hidden": true
   },
   "outputs": [],
   "source": [
    "pipeline = [\n",
    "{\n",
    "    'loc': {\n",
    "    \n",
    "  {   '$near': {\n",
    "       '$geometry': {\n",
    "          'type': \"Point\" ,\n",
    "          'coordinates': [ -1.073626, 51.806445 ]\n",
    "       },\n",
    "       '$maxDistance': 50,\n",
    "       '$minDistance': 50\n",
    "     }\n",
    "    }\n",
    "   }\n",
    "}]\n",
    "results_of_cri = list(street.aggregate(pipeline))\n",
    "results_of_cri\n"
   ]
  },
  {
   "cell_type": "code",
   "execution_count": null,
   "metadata": {
    "hidden": true
   },
   "outputs": [],
   "source": [
    "street.find_one({\n",
    "   'loc': {\n",
    "     '$near': {\n",
    "       '$geometry': {\n",
    "          'type': \"Point\" ,\n",
    "          'coordinates': [ -1.073, 51.806 ]\n",
    "       }\n",
    "         ,\n",
    "       '$maxDistance': 6000,\n",
    "       '$minDistance': 1000\n",
    "     }\n",
    "   }\n",
    "})\n"
   ]
  },
  {
   "cell_type": "code",
   "execution_count": null,
   "metadata": {
    "hidden": true
   },
   "outputs": [],
   "source": [
    "street.create_index({'loc':\"2dsphere\"});"
   ]
  },
  {
   "cell_type": "code",
   "execution_count": null,
   "metadata": {
    "hidden": true
   },
   "outputs": [],
   "source": [
    "street.find_one(\n",
    "   {\n",
    "     'location':\n",
    "       { '$near' :\n",
    "          {\n",
    "            '$geometry': { 'type': \"Point\",  'coordinates': [ -1.073, 51.806 ] },\n",
    "            '$minDistance': 1000,\n",
    "            '$maxDistance': 5000\n",
    "          }\n",
    "       }\n",
    "   }\n",
    ")\n"
   ]
  },
  {
   "cell_type": "code",
   "execution_count": null,
   "metadata": {
    "hidden": true
   },
   "outputs": [],
   "source": [
    "for a in street.find(\n",
    "   { 'loc' :\n",
    "       { '$near' :\n",
    "          {\n",
    "            '$geometry' : {\n",
    "               'type' : \"Point\" ,\n",
    "               'coordinates' : [-1.073, 51.806 ] },\n",
    "            '$maxDistance' : 100\n",
    "          }\n",
    "       }\n",
    "    },limit=1):\n",
    "    print(a)"
   ]
  },
  {
   "cell_type": "code",
   "execution_count": null,
   "metadata": {
    "hidden": true
   },
   "outputs": [],
   "source": [
    "# for s in street.find({'Longitude': {'$exists': True}}, ['Longitude', 'Latitude', 'Month']):\n",
    "#     first_of_month = datetime.datetime.strptime(s['Month'], '%Y-%m')\n",
    "#     last_of_month = last_day_of_month(first_of_month)\n",
    "\n",
    "#     street.update_one({'_id': s['_id']},\n",
    "#                       {'$set': {'loc.coordinates': [s['Longitude'], s['Latitude']],\n",
    "#                                 'loc.type': 'Point',\n",
    "#                                 'date': last_of_month}})"
   ]
  },
  {
   "cell_type": "markdown",
   "metadata": {
    "hidden": true
   },
   "source": [
    "Create a geospatial index for the crimes. See the [PyMongo documentation](http://api.mongodb.com/python/current/api/pymongo/collection.html#pymongo.collection.Collection.create_index) for more on creating indexes.\n",
    "\n",
    "street.create_index([(\"loc\", pymongo.GEOSPHERE)])"
   ]
  },
  {
   "cell_type": "code",
   "execution_count": null,
   "metadata": {
    "hidden": true
   },
   "outputs": [],
   "source": [
    "street.index_information()"
   ]
  },
  {
   "cell_type": "code",
   "execution_count": null,
   "metadata": {
    "hidden": true
   },
   "outputs": [],
   "source": [
    "for a in street.find({}, limit=1):\n",
    "    print(a)"
   ]
  }
 ],
 "metadata": {
  "kernelspec": {
   "display_name": "Python 3",
   "language": "python",
   "name": "python3"
  },
  "language_info": {
   "codemirror_mode": {
    "name": "ipython",
    "version": 3
   },
   "file_extension": ".py",
   "mimetype": "text/x-python",
   "name": "python",
   "nbconvert_exporter": "python",
   "pygments_lexer": "ipython3",
   "version": "3.5.2"
  }
 },
 "nbformat": 4,
 "nbformat_minor": 2
}
